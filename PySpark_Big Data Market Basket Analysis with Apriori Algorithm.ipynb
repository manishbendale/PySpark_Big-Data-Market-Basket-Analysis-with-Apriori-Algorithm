{
 "cells": [
  {
   "cell_type": "markdown",
   "metadata": {},
   "source": [
    "## Steps :\n",
    "\n",
    "- Reading data with PySpark\n",
    "- Parsing data to Spark RDD objects\n",
    "- Finding first support values of items with “MapReduce”\n",
    "- Deciding minimum support value\n",
    "- Creating the following support tables with “MapReduce”\n",
    "- Calculating confidence values\n",
    "- Deciding which product customer buys with high confidence"
   ]
  },
  {
   "cell_type": "code",
   "execution_count": 1,
   "metadata": {},
   "outputs": [],
   "source": [
    "import findspark\n",
    "findspark.init()"
   ]
  },
  {
   "cell_type": "code",
   "execution_count": 2,
   "metadata": {
    "scrolled": true
   },
   "outputs": [],
   "source": [
    "from pyspark import SparkContext\n",
    "\n",
    "# Spark Context \n",
    "# Also extra coniguration can be added \n",
    "sc = SparkContext(\"local\" , \"Apriori\")"
   ]
  },
  {
   "cell_type": "code",
   "execution_count": 3,
   "metadata": {},
   "outputs": [
    {
     "name": "stdout",
     "output_type": "stream",
     "text": [
      "['Apple,Mango,Banana', 'Banana,Mango', 'Apple,Banana', 'Apple,Mango,Coconut', 'Strawberry,Grapes,Lemon,Raspberry', 'Rassberry,Grapes', 'Strawberry,Apple', 'Apple,Mango,Raspberry', 'Mango,Raspberry', 'Mango,Apple', 'Apple,Raspberry', 'Banana,Raspberry,Mango', 'Apple,Mango,Banana', 'Raspberry,Banana', 'Apple,Strawberry', 'Strawberry,Banana,Apple,Mango', 'Mango,Banana,Raspberry,Apple', 'Coconut,Apple,Raspberry', 'Raspberry,Coconut,Banana']\n"
     ]
    }
   ],
   "source": [
    "## eading the dataset\n",
    "\n",
    "data = sc.textFile(\"Fruit_Data.txt\")\n",
    "print(data.collect())"
   ]
  },
  {
   "cell_type": "markdown",
   "metadata": {},
   "source": [
    "### **Parsing Transaction Items into RDD**\n",
    "\n",
    "The default textFile() method reads file line by line, it means every line in our CSV file will be a value in RDD. These RDDs include CSV lines as a single string value. That’s why we need to map into every RDD and split these single values by comma in order to obtain every item in lines and split them into an RDD array."
   ]
  },
  {
   "cell_type": "code",
   "execution_count": 4,
   "metadata": {},
   "outputs": [
    {
     "name": "stdout",
     "output_type": "stream",
     "text": [
      "[['Apple', 'Mango', 'Banana'], ['Banana', 'Mango'], ['Apple', 'Banana'], ['Apple', 'Mango', 'Coconut'], ['Strawberry', 'Grapes', 'Lemon', 'Raspberry'], ['Rassberry', 'Grapes'], ['Strawberry', 'Apple'], ['Apple', 'Mango', 'Raspberry'], ['Mango', 'Raspberry'], ['Mango', 'Apple'], ['Apple', 'Raspberry'], ['Banana', 'Raspberry', 'Mango'], ['Apple', 'Mango', 'Banana'], ['Raspberry', 'Banana'], ['Apple', 'Strawberry'], ['Strawberry', 'Banana', 'Apple', 'Mango'], ['Mango', 'Banana', 'Raspberry', 'Apple'], ['Coconut', 'Apple', 'Raspberry'], ['Raspberry', 'Coconut', 'Banana']]\n"
     ]
    }
   ],
   "source": [
    "## Splited items  \n",
    "lblitems = data.map(lambda line: line.split(','))\n",
    "\n",
    "print(lblitems.collect())"
   ]
  },
  {
   "cell_type": "markdown",
   "metadata": {},
   "source": [
    "### **Getting First Support Values of Items for Apriori**\n",
    "\n",
    "Apriori algorithm depends on the frequencies of items. Because of that first, we need to obtain frequencies for every single item. These frequencies will be our first support values in table one (as mentioned in the previous section). In order to that, we need to extract every item in RDDs to whole items of the array. We can do that by using the **“flatMap”** method."
   ]
  },
  {
   "cell_type": "code",
   "execution_count": 5,
   "metadata": {},
   "outputs": [
    {
     "name": "stdout",
     "output_type": "stream",
     "text": [
      "['Apple', 'Mango', 'Banana', 'Banana', 'Mango', 'Apple', 'Banana', 'Apple', 'Mango', 'Coconut', 'Strawberry', 'Grapes', 'Lemon', 'Raspberry', 'Rassberry', 'Grapes', 'Strawberry', 'Apple', 'Apple', 'Mango', 'Raspberry', 'Mango', 'Raspberry', 'Mango', 'Apple', 'Apple', 'Raspberry', 'Banana', 'Raspberry', 'Mango', 'Apple', 'Mango', 'Banana', 'Raspberry', 'Banana', 'Apple', 'Strawberry', 'Strawberry', 'Banana', 'Apple', 'Mango', 'Mango', 'Banana', 'Raspberry', 'Apple', 'Coconut', 'Apple', 'Raspberry', 'Raspberry', 'Coconut', 'Banana']\n"
     ]
    }
   ],
   "source": [
    "## Whole lines in single array \n",
    "wlitems = data.flatMap(lambda line:line.split(','))\n",
    "\n",
    "print(wlitems.collect())"
   ]
  },
  {
   "cell_type": "markdown",
   "metadata": {},
   "source": [
    "As you can see from the result; All our transaction items are in a single array. Now we can calculate each unique item’s frequency. Do not forget that these frequencies will be our first supports values. If we would be working on a “NumPy” array, finding frequencies would be easy. But, we work on RDDs and that’s why we need to find a way to obtain frequencies by considering the “MapReduce” approach. Solution; First we can convert every item to a “tuple” object and add “1” as a second item of “tuple”. We can sum these values by using the **“reduceByKey”** (It is like the groupby method in SQL) method. By summing tuple’s second numbers we can get every unique item’s frequency (how many time occurs on customers’ transactions). We will also need to list unique items in the feature sections. So, we can also obtain unique items by using the “distinct” method."
   ]
  },
  {
   "cell_type": "code",
   "execution_count": 6,
   "metadata": {},
   "outputs": [
    {
     "name": "stdout",
     "output_type": "stream",
     "text": [
      "['Apple', 'Mango', 'Banana', 'Coconut', 'Strawberry', 'Grapes', 'Lemon', 'Raspberry', 'Rassberry']\n"
     ]
    }
   ],
   "source": [
    "## Unique frequent items in dataset\n",
    "uniqueItems = wlitems.distinct()\n",
    "print(uniqueItems.collect())"
   ]
  },
  {
   "cell_type": "code",
   "execution_count": 7,
   "metadata": {},
   "outputs": [
    {
     "name": "stdout",
     "output_type": "stream",
     "text": [
      "[('Apple', 1), ('Mango', 1), ('Banana', 1), ('Banana', 1), ('Mango', 1), ('Apple', 1), ('Banana', 1), ('Apple', 1), ('Mango', 1), ('Coconut', 1), ('Strawberry', 1), ('Grapes', 1), ('Lemon', 1), ('Raspberry', 1), ('Rassberry', 1), ('Grapes', 1), ('Strawberry', 1), ('Apple', 1), ('Apple', 1), ('Mango', 1), ('Raspberry', 1), ('Mango', 1), ('Raspberry', 1), ('Mango', 1), ('Apple', 1), ('Apple', 1), ('Raspberry', 1), ('Banana', 1), ('Raspberry', 1), ('Mango', 1), ('Apple', 1), ('Mango', 1), ('Banana', 1), ('Raspberry', 1), ('Banana', 1), ('Apple', 1), ('Strawberry', 1), ('Strawberry', 1), ('Banana', 1), ('Apple', 1), ('Mango', 1), ('Mango', 1), ('Banana', 1), ('Raspberry', 1), ('Apple', 1), ('Coconut', 1), ('Apple', 1), ('Raspberry', 1), ('Raspberry', 1), ('Coconut', 1), ('Banana', 1)]\n"
     ]
    }
   ],
   "source": [
    "## Add 1 as Tuple\n",
    "supportRdd = wlitems.map(lambda item:(item, 1))\n",
    "print(supportRdd.collect())"
   ]
  },
  {
   "cell_type": "code",
   "execution_count": 8,
   "metadata": {},
   "outputs": [
    {
     "name": "stdout",
     "output_type": "stream",
     "text": [
      "[('Apple', 12), ('Mango', 10), ('Banana', 9), ('Coconut', 3), ('Strawberry', 4), ('Grapes', 2), ('Lemon', 1), ('Raspberry', 9), ('Rassberry', 1)]\n"
     ]
    }
   ],
   "source": [
    "# Method for sum in reduceByKey method\n",
    "def sumOpertor(x, y):\n",
    "    return x+y\n",
    "\n",
    "# sum of values by its key\n",
    "supportRdd = supportRdd.reduceByKey(sumOpertor)\n",
    "print(supportRdd.collect())"
   ]
  },
  {
   "cell_type": "code",
   "execution_count": 9,
   "metadata": {},
   "outputs": [
    {
     "name": "stdout",
     "output_type": "stream",
     "text": [
      "[12, 10, 9, 3, 4, 2, 1, 9, 1]\n"
     ]
    }
   ],
   "source": [
    "## finding first support values\n",
    "supports = supportRdd.map(lambda item:item[1]) ## return only support values\n",
    "print(supports.collect())"
   ]
  },
  {
   "cell_type": "markdown",
   "metadata": {},
   "source": [
    "### **Min Support Value**\n",
    "\n",
    "In order to decide which item-sets will stay in the support tables, we need to define a min support value. We can choose min support value as the minimum frequency that is in the first support values array (table). If any support values in item set arrays are less than min support value, we should remove that item set from that array. If our data hasn’t got many records, min support might be 1. In such cases, we can define min support as 2 or any value more than 1."
   ]
  },
  {
   "cell_type": "code",
   "execution_count": 13,
   "metadata": {},
   "outputs": [
    {
     "name": "stdout",
     "output_type": "stream",
     "text": [
      "1 . Table has crated...\n",
      "['Apple', 'Mango', 'Banana', 'Coconut', 'Strawberry', 'Grapes', 'Raspberry']\n"
     ]
    }
   ],
   "source": [
    "## Define minimum support value \n",
    "minSupport = supports.min()\n",
    "\n",
    "# If mininmum support is 1 then replace it with 2 \n",
    "minSupport = 2 if minSupport == 1 else minSupport\n",
    "\n",
    "## Filter first supportRdd with minimum support \n",
    "supportRdd = supportRdd.filter(lambda item: item[1] >= minSupport )\n",
    "\n",
    "## Craete base RDD with will be updated every iteration\n",
    "baseRdd = supportRdd.map(lambda item: ([item[0]] , item[1])) \n",
    "print('1 . Table has crated...') \n",
    "\n",
    "supportRdd = supportRdd.map(lambda item: item[0])\n",
    "supportRddCart = supportRdd\n",
    "print(supportRddCart.collect())"
   ]
  },
  {
   "cell_type": "markdown",
   "metadata": {},
   "source": [
    "The Apriori algorithm will filter every combination table according to min support value. When there is no item set while loop will end. Besides, we also need to define a function that can find replications inside the combined item set. As mentioned before; sets of (Apple, Mango) and (Mango, Apple) are the same thing for the Apriori algorithm. Because of that, we need to find such patterns and remove one of them. There is a function called “removeReplica”. This function removes such duplicated items after a combination and returns only one of them."
   ]
  },
  {
   "cell_type": "code",
   "execution_count": 14,
   "metadata": {},
   "outputs": [],
   "source": [
    "def removeReplica(record):\n",
    "\n",
    "    if(isinstance(record[0], tuple)):\n",
    "        x1 = record[0]\n",
    "        x2 = record[1]\n",
    "    else:\n",
    "        x1 = [record[0]]\n",
    "        x2 = record[1]\n",
    "\n",
    "    if(any(x == x2 for x in x1) == False):\n",
    "        a = list(x1)\n",
    "        a.append(x2)\n",
    "        a.sort()\n",
    "        result = tuple(a)\n",
    "        return result \n",
    "    else:\n",
    "        return x1"
   ]
  },
  {
   "cell_type": "code",
   "execution_count": 18,
   "metadata": {},
   "outputs": [
    {
     "name": "stdout",
     "output_type": "stream",
     "text": [
      "2 . Table has crated... \n"
     ]
    }
   ],
   "source": [
    "c = 2 # Combination length \n",
    "\n",
    "while(supportRdd.isEmpty() == False):\n",
    "\n",
    "    combined = supportRdd.cartesian(uniqueItems)\n",
    "    combined = combined.map(lambda item: removeReplica(item))\n",
    "  \n",
    "    combined = combined.filter(lambda item: len(item) == c)\n",
    "    combined = combined.distinct()\n",
    "\n",
    "    \n",
    "    combined_2 = combined.cartesian(lblitems)\n",
    "    combined_2 = combined_2.filter(lambda item: all(x in item[1] for x in item[0]))\n",
    "    \n",
    "    combined_2 = combined_2.map(lambda item: item[0])\n",
    "    combined_2 = combined_2.map(lambda item: (item , 1))\n",
    "    combined_2 = combined_2.reduceByKey(sumOpertor)\n",
    "    combined_2 = combined_2.filter(lambda item: item[1] >= minSupport)\n",
    "\n",
    "    baseRdd = baseRdd.union(combined_2)\n",
    "    \n",
    "    combined_2 = combined_2.map(lambda item: item[0])\n",
    "    supportRdd = combined_2\n",
    "    print(c ,'. Table has crated... ')\n",
    "    c = c+1 "
   ]
  },
  {
   "cell_type": "markdown",
   "metadata": {},
   "source": [
    "### Calculate Confidence % value"
   ]
  },
  {
   "cell_type": "code",
   "execution_count": 19,
   "metadata": {},
   "outputs": [
    {
     "name": "stdout",
     "output_type": "stream",
     "text": [
      "# : Aggregated support values preparing for the confidence calculatations\n",
      "# : Aggregated support values are ready !\n",
      "[[['Apple'], ['Mango'], 58.333333333333336], [['Mango'], ['Apple'], 70.0], [['Apple'], ['Banana'], 41.66666666666667], [['Apple'], ['Coconut'], 16.666666666666664], [['Banana'], ['Apple'], 55.55555555555556], [['Coconut'], ['Apple'], 66.66666666666666], [['Apple'], ['Strawberry'], 25.0], [['Apple'], ['Raspberry'], 33.33333333333333], [['Mango'], ['Banana'], 60.0], [['Banana'], ['Mango'], 66.66666666666666], [['Mango'], ['Raspberry'], 40.0], [['Strawberry'], ['Apple'], 75.0], [['Raspberry'], ['Apple'], 44.44444444444444], [['Raspberry'], ['Mango'], 44.44444444444444], [['Banana'], ['Raspberry'], 44.44444444444444], [['Raspberry'], ['Banana'], 44.44444444444444], [['Coconut'], ['Raspberry'], 66.66666666666666], [['Raspberry'], ['Coconut'], 22.22222222222222], [['Apple'], ['Mango', 'Banana'], 33.33333333333333], [['Mango'], ['Apple', 'Banana'], 40.0], [['Banana'], ['Mango', 'Apple'], 44.44444444444444], [['Apple'], ['Mango', 'Raspberry'], 16.666666666666664], [['Mango'], ['Raspberry', 'Apple'], 20.0], [['Mango'], ['Raspberry', 'Banana'], 20.0], [['Banana'], ['Mango', 'Raspberry'], 22.22222222222222], [['Raspberry'], ['Mango', 'Apple'], 22.22222222222222], [['Raspberry'], ['Mango', 'Banana'], 22.22222222222222], [['Mango', 'Apple'], ['Banana'], 57.14285714285714], [['Apple', 'Banana'], ['Mango'], 80.0], [['Mango', 'Banana'], ['Apple'], 66.66666666666666], [['Mango', 'Apple'], ['Raspberry'], 28.57142857142857], [['Raspberry', 'Apple'], ['Mango'], 50.0], [['Mango', 'Raspberry'], ['Apple'], 50.0], [['Mango', 'Banana'], ['Raspberry'], 33.33333333333333], [['Mango', 'Raspberry'], ['Banana'], 50.0], [['Raspberry', 'Banana'], ['Mango'], 50.0]]\n"
     ]
    }
   ],
   "source": [
    "class Filter():\n",
    "\n",
    "    def __init__(self):\n",
    "        \n",
    "        self.stages = 1\n",
    "\n",
    "\n",
    "    def filterForConf(self, item , total):\n",
    "        \n",
    "        if(len(item[0][0]) > len(item[1][0])  ):\n",
    "            if(self.checkItemSets(item[0][0] , item[1][0]) == False):\n",
    "                pass\n",
    "            else:\n",
    "                return (item)       \n",
    "        else:\n",
    "            pass  \n",
    "        self.stages = self.stages + 1\n",
    "\n",
    "    # Check Items sets includes at least one comman item // Example command: # any(l == k for k in z for l in x )\n",
    "    def checkItemSets(self, item_1 , item_2):\n",
    "\n",
    "        if(len(item_1) > len(item_2)):\n",
    "            return all(any(k == l for k in item_1 ) for l in item_2)\n",
    "        else:\n",
    "            return all(any(k == l for k in item_2 ) for l in item_1)\n",
    "\n",
    "\n",
    "    def calculateConfidence(self, item):\n",
    "\n",
    "        # Parent item list\n",
    "        parent = set(item[0][0])\n",
    "        \n",
    "        # Child item list\n",
    "        if(isinstance(item[1][0] , str)):\n",
    "            child  = set([item[1][0]])\n",
    "        else:\n",
    "            child  = set(item[1][0])\n",
    "        # Parent and Child support values\n",
    "        parentSupport = item[0][1]\n",
    "        childSupport = item[1][1]\n",
    "        # Finds the item set confidence is going to be found\n",
    "\n",
    "        support = (parentSupport / childSupport)*100\n",
    "\n",
    "        return list([ list(child) ,  list(parent.difference(child)) , support ])\n",
    "\n",
    "        \n",
    "# Example ((('x10', 'x3', 'x6', 'x7', 'x9'), 1), (('x10', 'x3', 'x7'), 1))\n",
    "calcuItems = baseRdd.cartesian(baseRdd)\n",
    "\n",
    "# Create Filter Object\n",
    "ff = Filter()\n",
    "\n",
    "#deneme = calcuItems.map(lambda item: lens(item)) \n",
    "total = calcuItems.count()\n",
    "\n",
    "print('# : Aggregated support values preparing for the confidence calculatations')\n",
    "baseRddConfidence = calcuItems.filter(lambda item: ff.filterForConf(item , total))\n",
    "print('# : Aggregated support values are ready !')\n",
    "baseRddConfidence = baseRddConfidence.map(lambda item: ff.calculateConfidence(item))\n",
    "\n",
    "  \n",
    "print(baseRddConfidence.collect())\n"
   ]
  },
  {
   "cell_type": "markdown",
   "metadata": {},
   "source": [
    "The first item-set in arrays shows the products that customers bought and the second shows customers might buy if they bought products in the first item-set. The last element of the array shows the confidence value for that pattern. For example, a customer who buys Mango might buy Apple with %58 confidence. Another example; customer who buys Mango and Banana might buy Apple with 66.6% confidence. If you look carefully at the first two arrays [“Mango”, “Apple” ] and [“Apple”, “Mango”] have different confidence values. Let’s write the support formula for [“Mango” => “Apple”] (confidence of buying Apple after Mango)"
   ]
  },
  {
   "cell_type": "code",
   "execution_count": 20,
   "metadata": {
    "scrolled": true
   },
   "outputs": [
    {
     "name": "stdout",
     "output_type": "stream",
     "text": [
      "                 Before                After  Confidence\n",
      "0               [Apple]              [Mango]   58.333333\n",
      "1               [Mango]              [Apple]   70.000000\n",
      "2               [Apple]             [Banana]   41.666667\n",
      "3               [Apple]            [Coconut]   16.666667\n",
      "4              [Banana]              [Apple]   55.555556\n",
      "5             [Coconut]              [Apple]   66.666667\n",
      "6               [Apple]         [Strawberry]   25.000000\n",
      "7               [Apple]          [Raspberry]   33.333333\n",
      "8               [Mango]             [Banana]   60.000000\n",
      "9              [Banana]              [Mango]   66.666667\n",
      "10              [Mango]          [Raspberry]   40.000000\n",
      "11         [Strawberry]              [Apple]   75.000000\n",
      "12          [Raspberry]              [Apple]   44.444444\n",
      "13          [Raspberry]              [Mango]   44.444444\n",
      "14             [Banana]          [Raspberry]   44.444444\n",
      "15          [Raspberry]             [Banana]   44.444444\n",
      "16            [Coconut]          [Raspberry]   66.666667\n",
      "17          [Raspberry]            [Coconut]   22.222222\n",
      "18              [Apple]      [Mango, Banana]   33.333333\n",
      "19              [Mango]      [Apple, Banana]   40.000000\n",
      "20             [Banana]       [Mango, Apple]   44.444444\n",
      "21              [Apple]   [Mango, Raspberry]   16.666667\n",
      "22              [Mango]   [Raspberry, Apple]   20.000000\n",
      "23              [Mango]  [Raspberry, Banana]   20.000000\n",
      "24             [Banana]   [Mango, Raspberry]   22.222222\n",
      "25          [Raspberry]       [Mango, Apple]   22.222222\n",
      "26          [Raspberry]      [Mango, Banana]   22.222222\n",
      "27       [Mango, Apple]             [Banana]   57.142857\n",
      "28      [Apple, Banana]              [Mango]   80.000000\n",
      "29      [Mango, Banana]              [Apple]   66.666667\n",
      "30       [Mango, Apple]          [Raspberry]   28.571429\n",
      "31   [Raspberry, Apple]              [Mango]   50.000000\n",
      "32   [Mango, Raspberry]              [Apple]   50.000000\n",
      "33      [Mango, Banana]          [Raspberry]   33.333333\n",
      "34   [Mango, Raspberry]             [Banana]   50.000000\n",
      "35  [Raspberry, Banana]              [Mango]   50.000000\n"
     ]
    }
   ],
   "source": [
    "## Import pandas modules\n",
    "import pandas as pd\n",
    "\n",
    "## Create an array with collected baseRddConfidence results\n",
    "result = baseRddConfidence.collect()\n",
    "\n",
    "## Create Data Frame\n",
    "confidenceTable = pd.DataFrame(data = result , columns=[\"Before\", \"After\" , \"Confidence\"])\n"
   ]
  },
  {
   "cell_type": "code",
   "execution_count": 21,
   "metadata": {},
   "outputs": [
    {
     "data": {
      "text/html": [
       "<div>\n",
       "<style scoped>\n",
       "    .dataframe tbody tr th:only-of-type {\n",
       "        vertical-align: middle;\n",
       "    }\n",
       "\n",
       "    .dataframe tbody tr th {\n",
       "        vertical-align: top;\n",
       "    }\n",
       "\n",
       "    .dataframe thead th {\n",
       "        text-align: right;\n",
       "    }\n",
       "</style>\n",
       "<table border=\"1\" class=\"dataframe\">\n",
       "  <thead>\n",
       "    <tr style=\"text-align: right;\">\n",
       "      <th></th>\n",
       "      <th>Before</th>\n",
       "      <th>After</th>\n",
       "      <th>Confidence</th>\n",
       "    </tr>\n",
       "  </thead>\n",
       "  <tbody>\n",
       "    <tr>\n",
       "      <th>0</th>\n",
       "      <td>[Apple]</td>\n",
       "      <td>[Mango]</td>\n",
       "      <td>58.333333</td>\n",
       "    </tr>\n",
       "    <tr>\n",
       "      <th>1</th>\n",
       "      <td>[Mango]</td>\n",
       "      <td>[Apple]</td>\n",
       "      <td>70.000000</td>\n",
       "    </tr>\n",
       "    <tr>\n",
       "      <th>2</th>\n",
       "      <td>[Apple]</td>\n",
       "      <td>[Banana]</td>\n",
       "      <td>41.666667</td>\n",
       "    </tr>\n",
       "    <tr>\n",
       "      <th>3</th>\n",
       "      <td>[Apple]</td>\n",
       "      <td>[Coconut]</td>\n",
       "      <td>16.666667</td>\n",
       "    </tr>\n",
       "    <tr>\n",
       "      <th>4</th>\n",
       "      <td>[Banana]</td>\n",
       "      <td>[Apple]</td>\n",
       "      <td>55.555556</td>\n",
       "    </tr>\n",
       "    <tr>\n",
       "      <th>5</th>\n",
       "      <td>[Coconut]</td>\n",
       "      <td>[Apple]</td>\n",
       "      <td>66.666667</td>\n",
       "    </tr>\n",
       "    <tr>\n",
       "      <th>6</th>\n",
       "      <td>[Apple]</td>\n",
       "      <td>[Strawberry]</td>\n",
       "      <td>25.000000</td>\n",
       "    </tr>\n",
       "    <tr>\n",
       "      <th>7</th>\n",
       "      <td>[Apple]</td>\n",
       "      <td>[Raspberry]</td>\n",
       "      <td>33.333333</td>\n",
       "    </tr>\n",
       "    <tr>\n",
       "      <th>8</th>\n",
       "      <td>[Mango]</td>\n",
       "      <td>[Banana]</td>\n",
       "      <td>60.000000</td>\n",
       "    </tr>\n",
       "    <tr>\n",
       "      <th>9</th>\n",
       "      <td>[Banana]</td>\n",
       "      <td>[Mango]</td>\n",
       "      <td>66.666667</td>\n",
       "    </tr>\n",
       "    <tr>\n",
       "      <th>10</th>\n",
       "      <td>[Mango]</td>\n",
       "      <td>[Raspberry]</td>\n",
       "      <td>40.000000</td>\n",
       "    </tr>\n",
       "    <tr>\n",
       "      <th>11</th>\n",
       "      <td>[Strawberry]</td>\n",
       "      <td>[Apple]</td>\n",
       "      <td>75.000000</td>\n",
       "    </tr>\n",
       "    <tr>\n",
       "      <th>12</th>\n",
       "      <td>[Raspberry]</td>\n",
       "      <td>[Apple]</td>\n",
       "      <td>44.444444</td>\n",
       "    </tr>\n",
       "    <tr>\n",
       "      <th>13</th>\n",
       "      <td>[Raspberry]</td>\n",
       "      <td>[Mango]</td>\n",
       "      <td>44.444444</td>\n",
       "    </tr>\n",
       "    <tr>\n",
       "      <th>14</th>\n",
       "      <td>[Banana]</td>\n",
       "      <td>[Raspberry]</td>\n",
       "      <td>44.444444</td>\n",
       "    </tr>\n",
       "    <tr>\n",
       "      <th>15</th>\n",
       "      <td>[Raspberry]</td>\n",
       "      <td>[Banana]</td>\n",
       "      <td>44.444444</td>\n",
       "    </tr>\n",
       "    <tr>\n",
       "      <th>16</th>\n",
       "      <td>[Coconut]</td>\n",
       "      <td>[Raspberry]</td>\n",
       "      <td>66.666667</td>\n",
       "    </tr>\n",
       "    <tr>\n",
       "      <th>17</th>\n",
       "      <td>[Raspberry]</td>\n",
       "      <td>[Coconut]</td>\n",
       "      <td>22.222222</td>\n",
       "    </tr>\n",
       "    <tr>\n",
       "      <th>18</th>\n",
       "      <td>[Apple]</td>\n",
       "      <td>[Mango, Banana]</td>\n",
       "      <td>33.333333</td>\n",
       "    </tr>\n",
       "    <tr>\n",
       "      <th>19</th>\n",
       "      <td>[Mango]</td>\n",
       "      <td>[Apple, Banana]</td>\n",
       "      <td>40.000000</td>\n",
       "    </tr>\n",
       "    <tr>\n",
       "      <th>20</th>\n",
       "      <td>[Banana]</td>\n",
       "      <td>[Mango, Apple]</td>\n",
       "      <td>44.444444</td>\n",
       "    </tr>\n",
       "    <tr>\n",
       "      <th>21</th>\n",
       "      <td>[Apple]</td>\n",
       "      <td>[Mango, Raspberry]</td>\n",
       "      <td>16.666667</td>\n",
       "    </tr>\n",
       "    <tr>\n",
       "      <th>22</th>\n",
       "      <td>[Mango]</td>\n",
       "      <td>[Raspberry, Apple]</td>\n",
       "      <td>20.000000</td>\n",
       "    </tr>\n",
       "    <tr>\n",
       "      <th>23</th>\n",
       "      <td>[Mango]</td>\n",
       "      <td>[Raspberry, Banana]</td>\n",
       "      <td>20.000000</td>\n",
       "    </tr>\n",
       "    <tr>\n",
       "      <th>24</th>\n",
       "      <td>[Banana]</td>\n",
       "      <td>[Mango, Raspberry]</td>\n",
       "      <td>22.222222</td>\n",
       "    </tr>\n",
       "    <tr>\n",
       "      <th>25</th>\n",
       "      <td>[Raspberry]</td>\n",
       "      <td>[Mango, Apple]</td>\n",
       "      <td>22.222222</td>\n",
       "    </tr>\n",
       "    <tr>\n",
       "      <th>26</th>\n",
       "      <td>[Raspberry]</td>\n",
       "      <td>[Mango, Banana]</td>\n",
       "      <td>22.222222</td>\n",
       "    </tr>\n",
       "    <tr>\n",
       "      <th>27</th>\n",
       "      <td>[Mango, Apple]</td>\n",
       "      <td>[Banana]</td>\n",
       "      <td>57.142857</td>\n",
       "    </tr>\n",
       "    <tr>\n",
       "      <th>28</th>\n",
       "      <td>[Apple, Banana]</td>\n",
       "      <td>[Mango]</td>\n",
       "      <td>80.000000</td>\n",
       "    </tr>\n",
       "    <tr>\n",
       "      <th>29</th>\n",
       "      <td>[Mango, Banana]</td>\n",
       "      <td>[Apple]</td>\n",
       "      <td>66.666667</td>\n",
       "    </tr>\n",
       "    <tr>\n",
       "      <th>30</th>\n",
       "      <td>[Mango, Apple]</td>\n",
       "      <td>[Raspberry]</td>\n",
       "      <td>28.571429</td>\n",
       "    </tr>\n",
       "    <tr>\n",
       "      <th>31</th>\n",
       "      <td>[Raspberry, Apple]</td>\n",
       "      <td>[Mango]</td>\n",
       "      <td>50.000000</td>\n",
       "    </tr>\n",
       "    <tr>\n",
       "      <th>32</th>\n",
       "      <td>[Mango, Raspberry]</td>\n",
       "      <td>[Apple]</td>\n",
       "      <td>50.000000</td>\n",
       "    </tr>\n",
       "    <tr>\n",
       "      <th>33</th>\n",
       "      <td>[Mango, Banana]</td>\n",
       "      <td>[Raspberry]</td>\n",
       "      <td>33.333333</td>\n",
       "    </tr>\n",
       "    <tr>\n",
       "      <th>34</th>\n",
       "      <td>[Mango, Raspberry]</td>\n",
       "      <td>[Banana]</td>\n",
       "      <td>50.000000</td>\n",
       "    </tr>\n",
       "    <tr>\n",
       "      <th>35</th>\n",
       "      <td>[Raspberry, Banana]</td>\n",
       "      <td>[Mango]</td>\n",
       "      <td>50.000000</td>\n",
       "    </tr>\n",
       "  </tbody>\n",
       "</table>\n",
       "</div>"
      ],
      "text/plain": [
       "                 Before                After  Confidence\n",
       "0               [Apple]              [Mango]   58.333333\n",
       "1               [Mango]              [Apple]   70.000000\n",
       "2               [Apple]             [Banana]   41.666667\n",
       "3               [Apple]            [Coconut]   16.666667\n",
       "4              [Banana]              [Apple]   55.555556\n",
       "5             [Coconut]              [Apple]   66.666667\n",
       "6               [Apple]         [Strawberry]   25.000000\n",
       "7               [Apple]          [Raspberry]   33.333333\n",
       "8               [Mango]             [Banana]   60.000000\n",
       "9              [Banana]              [Mango]   66.666667\n",
       "10              [Mango]          [Raspberry]   40.000000\n",
       "11         [Strawberry]              [Apple]   75.000000\n",
       "12          [Raspberry]              [Apple]   44.444444\n",
       "13          [Raspberry]              [Mango]   44.444444\n",
       "14             [Banana]          [Raspberry]   44.444444\n",
       "15          [Raspberry]             [Banana]   44.444444\n",
       "16            [Coconut]          [Raspberry]   66.666667\n",
       "17          [Raspberry]            [Coconut]   22.222222\n",
       "18              [Apple]      [Mango, Banana]   33.333333\n",
       "19              [Mango]      [Apple, Banana]   40.000000\n",
       "20             [Banana]       [Mango, Apple]   44.444444\n",
       "21              [Apple]   [Mango, Raspberry]   16.666667\n",
       "22              [Mango]   [Raspberry, Apple]   20.000000\n",
       "23              [Mango]  [Raspberry, Banana]   20.000000\n",
       "24             [Banana]   [Mango, Raspberry]   22.222222\n",
       "25          [Raspberry]       [Mango, Apple]   22.222222\n",
       "26          [Raspberry]      [Mango, Banana]   22.222222\n",
       "27       [Mango, Apple]             [Banana]   57.142857\n",
       "28      [Apple, Banana]              [Mango]   80.000000\n",
       "29      [Mango, Banana]              [Apple]   66.666667\n",
       "30       [Mango, Apple]          [Raspberry]   28.571429\n",
       "31   [Raspberry, Apple]              [Mango]   50.000000\n",
       "32   [Mango, Raspberry]              [Apple]   50.000000\n",
       "33      [Mango, Banana]          [Raspberry]   33.333333\n",
       "34   [Mango, Raspberry]             [Banana]   50.000000\n",
       "35  [Raspberry, Banana]              [Mango]   50.000000"
      ]
     },
     "execution_count": 21,
     "metadata": {},
     "output_type": "execute_result"
    }
   ],
   "source": [
    "confidenceTable"
   ]
  },
  {
   "cell_type": "markdown",
   "metadata": {},
   "source": [
    "\n"
   ]
  },
  {
   "cell_type": "code",
   "execution_count": null,
   "metadata": {},
   "outputs": [],
   "source": []
  }
 ],
 "metadata": {
  "kernelspec": {
   "display_name": "Python 3",
   "language": "python",
   "name": "python3"
  },
  "language_info": {
   "codemirror_mode": {
    "name": "ipython",
    "version": 3
   },
   "file_extension": ".py",
   "mimetype": "text/x-python",
   "name": "python",
   "nbconvert_exporter": "python",
   "pygments_lexer": "ipython3",
   "version": "3.7.1"
  }
 },
 "nbformat": 4,
 "nbformat_minor": 2
}
